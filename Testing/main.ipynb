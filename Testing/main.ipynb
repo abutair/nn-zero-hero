{
 "cells": [
  {
   "cell_type": "code",
   "execution_count": 1,
   "metadata": {},
   "outputs": [],
   "source": [
    "import pandas as pd\n",
    "import numpy as np\n",
    "from sklearn.model_selection import train_test_split\n",
    "from sklearn.feature_selection import SelectKBest, chi2, f_classif\n",
    "from sklearn.datasets import load_iris\n"
   ]
  },
  {
   "cell_type": "code",
   "execution_count": 2,
   "metadata": {},
   "outputs": [],
   "source": [
    "# Load dataset\n",
    "data = load_iris()\n",
    "X = pd.DataFrame(data.data, columns=data.feature_names)\n",
    "y = pd.Series(data.target)\n",
    "\n",
    "# Splitting the dataset\n",
    "X_train, X_test, y_train, y_test = train_test_split(X, y, test_size=0.3, random_state=42)\n"
   ]
  },
  {
   "cell_type": "code",
   "execution_count": 3,
   "metadata": {},
   "outputs": [],
   "source": [
    "# Load dataset\n",
    "data = load_iris()\n",
    "X = pd.DataFrame(data.data, columns=data.feature_names)\n",
    "y = pd.Series(data.target)\n",
    "\n",
    "# Splitting the dataset\n",
    "X_train, X_test, y_train, y_test = train_test_split(X, y, test_size=0.3, random_state=42)\n"
   ]
  },
  {
   "cell_type": "code",
   "execution_count": 4,
   "metadata": {},
   "outputs": [
    {
     "name": "stdout",
     "output_type": "stream",
     "text": [
      "Features after Variance Threshold: 4\n"
     ]
    }
   ],
   "source": [
    "from sklearn.feature_selection import VarianceThreshold\n",
    "\n",
    "# Apply variance threshold\n",
    "selector = VarianceThreshold(threshold=0.1)  # Remove features with variance lower than 0.1\n",
    "X_train_var = selector.fit_transform(X_train)\n",
    "print(\"Features after Variance Threshold:\", X_train_var.shape[1])\n"
   ]
  },
  {
   "cell_type": "code",
   "execution_count": 5,
   "metadata": {},
   "outputs": [
    {
     "name": "stdout",
     "output_type": "stream",
     "text": [
      "Features selected by Chi-Square: 2\n"
     ]
    }
   ],
   "source": [
    "# Apply Chi-Square\n",
    "chi2_selector = SelectKBest(chi2, k=2)  # Select the top 2 features\n",
    "X_train_chi2 = chi2_selector.fit_transform(X_train, y_train)\n",
    "print(\"Features selected by Chi-Square:\", X_train_chi2.shape[1])\n"
   ]
  },
  {
   "cell_type": "code",
   "execution_count": 1,
   "metadata": {},
   "outputs": [
    {
     "name": "stdout",
     "output_type": "stream",
     "text": [
      "WARNING:tensorflow:From C:\\Users\\abutair\\AppData\\Local\\Temp\\ipykernel_8284\\973187421.py:5: is_gpu_available (from tensorflow.python.framework.test_util) is deprecated and will be removed in a future version.\n",
      "Instructions for updating:\n",
      "Use `tf.config.list_physical_devices('GPU')` instead.\n"
     ]
    },
    {
     "data": {
      "text/plain": [
       "False"
      ]
     },
     "execution_count": 1,
     "metadata": {},
     "output_type": "execute_result"
    }
   ],
   "source": [
    "import tensorflow as tf\n",
    "\n",
    "tf.config.list_logical_devices('GPU')\n",
    "\n",
    "tf.test.is_gpu_available()"
   ]
  },
  {
   "cell_type": "code",
   "execution_count": 4,
   "metadata": {},
   "outputs": [
    {
     "name": "stderr",
     "output_type": "stream",
     "text": [
      "ERROR: Could not find a version that satisfies the requirement tensorflow==2.15 (from versions: 2.16.0rc0, 2.16.1, 2.16.2, 2.17.0rc0, 2.17.0rc1, 2.17.0)\n",
      "ERROR: No matching distribution found for tensorflow==2.15\n"
     ]
    }
   ],
   "source": [
    "!pip install tensorflow==2.15\n"
   ]
  },
  {
   "cell_type": "code",
   "execution_count": 4,
   "metadata": {},
   "outputs": [
    {
     "name": "stdout",
     "output_type": "stream",
     "text": [
      "Identified entities:\n",
      "Mr. John Smith: PERSON\n",
      "Tech Solutions Inc.: ORGANIZATION\n",
      "New York : PERSON\n",
      "15 Sep 2023: DATE\n",
      "Dr. Jane Doe : PERSON\n",
      "UK: LOCATION\n",
      "Canada: LOCATION\n"
     ]
    }
   ],
   "source": [
    "import re\n",
    "from typing import List, Tuple\n",
    "\n",
    "class AdvancedRuleBasedNER:\n",
    "    def __init__(self):\n",
    "        # Gazetteers\n",
    "        self.person_titles = {'Mr.', 'Mrs.', 'Ms.', 'Dr.', 'Prof.'}\n",
    "        self.company_suffixes = {'Inc.', 'Corp.', 'LLC', 'Ltd.'}\n",
    "        self.cities = {'New York', 'Los Angeles', 'Chicago', 'Houston', 'Phoenix'}\n",
    "        self.countries = {'USA', 'UK', 'Canada', 'Australia', 'Germany', 'France'}\n",
    "\n",
    "        # Patterns\n",
    "        self.person_pattern = r'\\b(?:(?:{titles})\\s)?[A-Z][a-z]+ (?:[A-Z][a-z]+\\s?)+'.format(\n",
    "            titles='|'.join(self.person_titles))\n",
    "        self.org_pattern = r'\\b[A-Z][a-z]+ (?:[A-Z][a-z]+ )*(?:{suffixes})'.format(\n",
    "            suffixes='|'.join(self.company_suffixes))\n",
    "        self.location_pattern = r'\\b(?:{cities}|{countries})\\b'.format(\n",
    "            cities='|'.join(self.cities), countries='|'.join(self.countries))\n",
    "        self.date_pattern = r'\\b(?:\\d{1,2} )?(?:Jan|Feb|Mar|Apr|May|Jun|Jul|Aug|Sep|Oct|Nov|Dec)[a-z]* \\d{4}\\b'\n",
    "\n",
    "    def preprocess(self, text: str) -> str:\n",
    "        # Simple preprocessing\n",
    "        return text.replace('\\n', ' ')\n",
    "\n",
    "    def find_entities(self, text: str) -> List[Tuple[str, str, int]]:\n",
    "        text = self.preprocess(text)\n",
    "        entities = []\n",
    "\n",
    "        # Find persons\n",
    "        for match in re.finditer(self.person_pattern, text):\n",
    "            entities.append((match.group(), 'PERSON', match.start()))\n",
    "\n",
    "        # Find organizations\n",
    "        for match in re.finditer(self.org_pattern, text):\n",
    "            entities.append((match.group(), 'ORGANIZATION', match.start()))\n",
    "\n",
    "        # Find locations\n",
    "        for match in re.finditer(self.location_pattern, text):\n",
    "            entities.append((match.group(), 'LOCATION', match.start()))\n",
    "\n",
    "        # Find dates\n",
    "        for match in re.finditer(self.date_pattern, text):\n",
    "            entities.append((match.group(), 'DATE', match.start()))\n",
    "\n",
    "        # Sort entities by their position in text\n",
    "        entities.sort(key=lambda x: x[2])\n",
    "\n",
    "        return entities\n",
    "\n",
    "    def resolve_conflicts(self, entities: List[Tuple[str, str, int]]) -> List[Tuple[str, str, int]]:\n",
    "        # Simple conflict resolution: prefer longer entities\n",
    "        resolved = []\n",
    "        for i, entity in enumerate(entities):\n",
    "            if i == 0 or entity[2] >= resolved[-1][2] + len(resolved[-1][0]):\n",
    "                resolved.append(entity)\n",
    "            elif len(entity[0]) > len(resolved[-1][0]):\n",
    "                resolved[-1] = entity\n",
    "        return resolved\n",
    "\n",
    "    def ner(self, text: str) -> List[Tuple[str, str]]:\n",
    "        entities = self.find_entities(text)\n",
    "        resolved_entities = self.resolve_conflicts(entities)\n",
    "        return [(entity, label) for entity, label, _ in resolved_entities]\n",
    "\n",
    "# Test the advanced NER system\n",
    "ner_system = AdvancedRuleBasedNER()\n",
    "sample_text = \"\"\"\n",
    "Mr. John Smith, CEO of Tech Solutions Inc., visited New York on 15 Sep 2023. \n",
    "He met with Dr. Jane Doe from InnovateCorp LLC to discuss expansion plans in the UK and Canada.\n",
    "\"\"\"\n",
    "\n",
    "results = ner_system.ner(sample_text)\n",
    "\n",
    "print(\"Identified entities:\")\n",
    "for entity, label in results:\n",
    "    print(f\"{entity}: {label}\")"
   ]
  },
  {
   "cell_type": "code",
   "execution_count": null,
   "metadata": {},
   "outputs": [],
   "source": []
  }
 ],
 "metadata": {
  "kernelspec": {
   "display_name": "base",
   "language": "python",
   "name": "python3"
  },
  "language_info": {
   "codemirror_mode": {
    "name": "ipython",
    "version": 3
   },
   "file_extension": ".py",
   "mimetype": "text/x-python",
   "name": "python",
   "nbconvert_exporter": "python",
   "pygments_lexer": "ipython3",
   "version": "3.12.3"
  }
 },
 "nbformat": 4,
 "nbformat_minor": 2
}
