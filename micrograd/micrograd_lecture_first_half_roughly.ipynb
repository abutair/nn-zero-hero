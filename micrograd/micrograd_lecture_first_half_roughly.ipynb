{
 "cells": [
  {
   "cell_type": "code",
   "execution_count": 1,
   "metadata": {},
   "outputs": [],
   "source": [
    "import math\n",
    "import numpy as np\n",
    "import matplotlib.pyplot as plt\n",
    "%matplotlib inline"
   ]
  },
  {
   "cell_type": "code",
   "execution_count": 2,
   "metadata": {},
   "outputs": [],
   "source": [
    "def f(x):\n",
    "    return 3*x**2 -4*x + 5\n"
   ]
  },
  {
   "cell_type": "code",
   "execution_count": 3,
   "metadata": {},
   "outputs": [
    {
     "data": {
      "text/plain": [
       "20"
      ]
     },
     "execution_count": 3,
     "metadata": {},
     "output_type": "execute_result"
    }
   ],
   "source": [
    "f(3)"
   ]
  },
  {
   "cell_type": "code",
   "execution_count": 4,
   "metadata": {},
   "outputs": [
    {
     "data": {
      "text/plain": [
       "[<matplotlib.lines.Line2D at 0x24ce7c089d0>]"
      ]
     },
     "execution_count": 4,
     "metadata": {},
     "output_type": "execute_result"
    },
    {
     "data": {
      "image/png": "[encoded data removed]",
      "text/plain": [
       "<Figure size 640x480 with 1 Axes>"
      ]
     },
     "metadata": {},
     "output_type": "display_data"
    }
   ],
   "source": [
    "xs = np.arange(-5,5,0.25)\n",
    "ys = f(xs)\n",
    "plt.plot(xs,ys)"
   ]
  },
  {
   "cell_type": "code",
   "execution_count": 5,
   "metadata": {},
   "outputs": [
    {
     "data": {
      "text/plain": [
       "3.0000002482211127e-05"
      ]
     },
     "execution_count": 5,
     "metadata": {},
     "output_type": "execute_result"
    }
   ],
   "source": [
    "h= 0.00001\n",
    "x = 2/3\n",
    "(f(x+h)-f(x))/h"
   ]
  },
  {
   "cell_type": "code",
   "execution_count": 6,
   "metadata": {},
   "outputs": [
    {
     "name": "stdout",
     "output_type": "stream",
     "text": [
      "d1 4.0\n",
      "d2 4.0001\n",
      "slope 0.9999999999976694\n"
     ]
    }
   ],
   "source": [
    "h = 0.0001\n",
    "\n",
    "# Inputs\n",
    "a = 2.0\n",
    "b = -3.0\n",
    "c = 10.0\n",
    "\n",
    "d1 = a*b+c\n",
    "\n",
    "c+= h\n",
    "d2= a*b+c\n",
    "\n",
    "print('d1',d1)\n",
    "print('d2',d2)\n",
    "\n",
    "print('slope',((d2-d1)/h))"
   ]
  },
  {
   "cell_type": "code",
   "execution_count": 7,
   "metadata": {},
   "outputs": [],
   "source": [
    "class Value:\n",
    "  \n",
    "  def __init__(self, data, _children=(), _op='', label=''):\n",
    "    self.data = data\n",
    "    self.grad = 0.0\n",
    "    self._backward = lambda: None\n",
    "    self._prev = set(_children)\n",
    "    self._op = _op\n",
    "    self.label = label\n",
    "\n",
    "  def __repr__(self):\n",
    "    return f\"Value(data={self.data})\"\n",
    "  \n",
    "  def __add__(self, other):\n",
    "    other = other if isinstance(other, Value) else Value(other)\n",
    "    out = Value(self.data + other.data, (self, other), '+')\n",
    "    \n",
    "    def _backward():\n",
    "      self.grad += 1.0 * out.grad\n",
    "      other.grad += 1.0 * out.grad\n",
    "    out._backward = _backward\n",
    "    \n",
    "    return out\n",
    "\n",
    "  def __mul__(self, other):\n",
    "    other = other if isinstance(other, Value) else Value(other)\n",
    "    out = Value(self.data * other.data, (self, other), '*')\n",
    "    \n",
    "    def _backward():\n",
    "      self.grad += other.data * out.grad\n",
    "      other.grad += self.data * out.grad\n",
    "    out._backward = _backward\n",
    "      \n",
    "    return out\n",
    "  \n",
    "  def __pow__(self, other):\n",
    "    assert isinstance(other, (int, float)), \"only supporting int/float powers for now\"\n",
    "    out = Value(self.data**other, (self,), f'**{other}')\n",
    "\n",
    "    def _backward():\n",
    "        self.grad += other * (self.data ** (other - 1)) * out.grad\n",
    "    out._backward = _backward\n",
    "\n",
    "    return out\n",
    "  \n",
    "  def __rmul__(self, other): # other * self\n",
    "    return self * other\n",
    "\n",
    "  def __truediv__(self, other): # self / other\n",
    "    return self * other**-1\n",
    "\n",
    "  def __neg__(self): # -self\n",
    "    return self * -1\n",
    "\n",
    "  def __sub__(self, other): # self - other\n",
    "    return self + (-other)\n",
    "\n",
    "  def __radd__(self, other): # other + self\n",
    "    return self + other\n",
    "\n",
    "  def tanh(self):\n",
    "    x = self.data\n",
    "    t = (math.exp(2*x) - 1)/(math.exp(2*x) + 1)\n",
    "    out = Value(t, (self, ), 'tanh')\n",
    "    \n",
    "    def _backward():\n",
    "      self.grad += (1 - t**2) * out.grad\n",
    "    out._backward = _backward\n",
    "    \n",
    "    return out\n",
    "  \n",
    "  def exp(self):\n",
    "    x = self.data\n",
    "    out = Value(math.exp(x), (self, ), 'exp')\n",
    "    \n",
    "    def _backward():\n",
    "      self.grad += out.data * out.grad # NOTE: in the video I incorrectly used = instead of +=. Fixed here.\n",
    "    out._backward = _backward\n",
    "    \n",
    "    return out\n",
    "  \n",
    "  \n",
    "  def backward(self):\n",
    "    \n",
    "    topo = []\n",
    "    visited = set()\n",
    "    def build_topo(v):\n",
    "      if v not in visited:\n",
    "        visited.add(v)\n",
    "        for child in v._prev:\n",
    "          build_topo(child)\n",
    "        topo.append(v)\n",
    "    build_topo(self)\n",
    "    \n",
    "    self.grad = 1.0\n",
    "    for node in reversed(topo):\n",
    "      node._backward()"
   ]
  },
  {
   "cell_type": "code",
   "execution_count": 10,
   "metadata": {},
   "outputs": [],
   "source": [
    "from graphviz import Digraph\n",
    "\n",
    "def trace(root):\n",
    "  # builds a set of all nodes and edges in a graph\n",
    "  nodes, edges = set(), set()\n",
    "  def build(v):\n",
    "    if v not in nodes:\n",
    "      nodes.add(v)\n",
    "      for child in v._prev:\n",
    "        edges.add((child, v))\n",
    "        build(child)\n",
    "  build(root)\n",
    "  return nodes, edges\n",
    "\n",
    "def draw_dot(root):\n",
    "  dot = Digraph(format='svg', graph_attr={'rankdir': 'LR'}) # LR = left to right\n",
    "  \n",
    "  nodes, edges = trace(root)\n",
    "  for n in nodes:\n",
    "    uid = str(id(n))\n",
    "    # for any value in the graph, create a rectangular ('record') node for it\n",
    "    dot.node(name = uid, label = \"{ %s | data %.4f | grad %.4f }\" % (n.label, n.data, n.grad), shape='record')\n",
    "    if n._op:\n",
    "      # if this value is a result of some operation, create an op node for it\n",
    "      dot.node(name = uid + n._op, label = n._op)\n",
    "      # and connect this node to it\n",
    "      dot.edge(uid + n._op, uid)\n",
    "\n",
    "  for n1, n2 in edges:\n",
    "    # connect n1 to the op node of n2\n",
    "    dot.edge(str(id(n1)), str(id(n2)) + n2._op)\n",
    "\n",
    "  return dot"
   ]
  },
  {
   "cell_type": "code",
   "execution_count": null,
   "metadata": {},
   "outputs": [],
   "source": [
    "draw_dot(L)"
   ]
  },
  {
   "cell_type": "code",
   "execution_count": null,
   "metadata": {},
   "outputs": [],
   "source": [
    "# 2. Calculate the Gradient of the Loss L with Respect to Each Variable:\n",
    "\n",
    "# Start with the gradient of L with respect to L, which is 1  : \n",
    "\n",
    "# (since dL/dL = 1).\n",
    "\n",
    "# Gradient of L with respect to d:\n",
    "# dL/dd = d(d * f)/dd = f = -2.0\n",
    "\n",
    "# Gradient of L with respect to f:\n",
    "# dL/df = d(d * f)/df = d = 4.0\n",
    "\n",
    "# Gradient of L with respect to e:\n",
    "# Since d = e + c,\n",
    "# dL/de = dL/dd * dd/de = -2.0 * 1 = -2.0\n",
    "\n",
    "# Gradient of L with respect to c:\n",
    "# Since d = e + c,\n",
    "# dL/dc = dL/dd * dd/dc = -2.0 * 1 = -2.0\n",
    "\n",
    "# Gradient of L with respect to a:\n",
    "# Since e = a * b,\n",
    "# dL/da = dL/de * de/da = -2.0 * b = -2.0 * -3.0 = 6.0\n",
    "\n",
    "# Gradient of L with respect to b:\n",
    "# Since e = a * b,\n",
    "# dL/db = dL/de * de/db = -2.0 * a = -2.0 * 2.0 = -4.0\n",
    "\n",
    "# 3. Summary of Gradients:\n",
    "# dL/da = 6.0\n",
    "# dL/db = -4.0\n",
    "# dL/dc = -2.0\n",
    "# dL/de = -2.0\n",
    "# dL/df = 4.0\n",
    "\n",
    "# For a: The gradient is positive (6.0), so to reduce L, we should decrease a.\n",
    "# For b: The gradient is negative (-4.0), so to reduce L, we should increase b.\n",
    "# For c: The gradient is negative (-2.0), so to reduce L, we should increase c.\n",
    "# For f: The gradient is positive (4.0), so to reduce L, we should decrease f.\n"
   ]
  },
  {
   "cell_type": "code",
   "execution_count": 13,
   "metadata": {},
   "outputs": [],
   "source": [
    "x1 = Value(2.0, label='x1')\n",
    "x2 = Value(0.0, label='x2')\n",
    "# weights w1,w2\n",
    "w1 = Value(-3.0, label='w1')\n",
    "w2 = Value(1.0, label='w2')\n",
    "# bias of the neuron\n",
    "b = Value(6.8813735870195432, label='b')\n",
    "# x1*w1 + x2*w2 + b\n",
    "x1w1 = x1*w1; x1w1.label = 'x1*w1'\n",
    "x2w2 = x2*w2; x2w2.label = 'x2*w2'\n",
    "x1w1x2w2 = x1w1 + x2w2; x1w1x2w2.label = 'x1*w1 + x2*w2'\n",
    "n = x1w1x2w2 + b; n.label = 'n'\n",
    "o = n.tanh(); o.label = 'o'\n",
    "o.backward()"
   ]
  },
  {
   "cell_type": "code",
   "execution_count": 14,
   "metadata": {},
   "outputs": [
    {
     "data": {
      "image/svg+xml": [
       "<?xml version=\"1.0\" encoding=\"UTF-8\" standalone=\"no\"?>\n",
       "<!DOCTYPE svg PUBLIC \"-//W3C//DTD SVG 1.1//EN\"\n",
       " \"http://www.w3.org/Graphics/SVG/1.1/DTD/svg11.dtd\">\n",
       "<!-- Generated by graphviz version 12.0.0 (20240704.0754)\n",
       " -->\n",
       "<!-- Pages: 1 -->\n",
       "<svg width=\"1575pt\" height=\"210pt\"\n",
       " viewBox=\"0.00 0.00 1574.75 210.00\" xmlns=\"http://www.w3.org/2000/svg\" xmlns:xlink=\"http://www.w3.org/1999/xlink\">\n",
       "<g id=\"graph0\" class=\"graph\" transform=\"scale(1 1) rotate(0) translate(4 206)\">\n",
       "<polygon fill=\"white\" stroke=\"none\" points=\"-4,4 -4,-206 1570.75,-206 1570.75,4 -4,4\"/>\n",
       "<!-- 2529364943392 -->\n",
       "<g id=\"node1\" class=\"node\">\n",
       "<title>2529364943392</title>\n",
       "<polygon fill=\"none\" stroke=\"black\" points=\"1.5,-165.5 1.5,-201.5 198,-201.5 198,-165.5 1.5,-165.5\"/>\n",
       "<text text-anchor=\"middle\" x=\"16.25\" y=\"-178.2\" font-family=\"Times New Roman,serif\" font-size=\"14.00\">x1</text>\n",
       "<polyline fill=\"none\" stroke=\"black\" points=\"31,-165.75 31,-201.5\"/>\n",
       "<text text-anchor=\"middle\" x=\"71.25\" y=\"-178.2\" font-family=\"Times New Roman,serif\" font-size=\"14.00\">data 2.0000</text>\n",
       "<polyline fill=\"none\" stroke=\"black\" points=\"111.5,-165.75 111.5,-201.5\"/>\n",
       "<text text-anchor=\"middle\" x=\"154.75\" y=\"-178.2\" font-family=\"Times New Roman,serif\" font-size=\"14.00\">grad &#45;1.5000</text>\n",
       "</g>\n",
       "<!-- 2529364944112* -->\n",
       "<g id=\"node8\" class=\"node\">\n",
       "<title>2529364944112*</title>\n",
       "<ellipse fill=\"none\" stroke=\"black\" cx=\"262.5\" cy=\"-128.5\" rx=\"27\" ry=\"18\"/>\n",
       "<text text-anchor=\"middle\" x=\"262.5\" y=\"-123.08\" font-family=\"Times New Roman,serif\" font-size=\"14.00\">*</text>\n",
       "</g>\n",
       "<!-- 2529364943392&#45;&gt;2529364944112* -->\n",
       "<g id=\"edge12\" class=\"edge\">\n",
       "<title>2529364943392&#45;&gt;2529364944112*</title>\n",
       "<path fill=\"none\" stroke=\"black\" d=\"M173.43,-165.03C182.28,-162.37 191.14,-159.51 199.5,-156.5 209.59,-152.87 220.33,-148.29 229.98,-143.89\"/>\n",
       "<polygon fill=\"black\" stroke=\"black\" points=\"231.37,-147.1 238.95,-139.7 228.41,-140.76 231.37,-147.1\"/>\n",
       "</g>\n",
       "<!-- 2529364943440 -->\n",
       "<g id=\"node2\" class=\"node\">\n",
       "<title>2529364943440</title>\n",
       "<polygon fill=\"none\" stroke=\"black\" points=\"0,-110.5 0,-146.5 199.5,-146.5 199.5,-110.5 0,-110.5\"/>\n",
       "<text text-anchor=\"middle\" x=\"16.25\" y=\"-123.2\" font-family=\"Times New Roman,serif\" font-size=\"14.00\">w1</text>\n",
       "<polyline fill=\"none\" stroke=\"black\" points=\"32.5,-110.75 32.5,-146.5\"/>\n",
       "<text text-anchor=\"middle\" x=\"75\" y=\"-123.2\" font-family=\"Times New Roman,serif\" font-size=\"14.00\">data &#45;3.0000</text>\n",
       "<polyline fill=\"none\" stroke=\"black\" points=\"117.5,-110.75 117.5,-146.5\"/>\n",
       "<text text-anchor=\"middle\" x=\"158.5\" y=\"-123.2\" font-family=\"Times New Roman,serif\" font-size=\"14.00\">grad 1.0000</text>\n",
       "</g>\n",
       "<!-- 2529364943440&#45;&gt;2529364944112* -->\n",
       "<g id=\"edge9\" class=\"edge\">\n",
       "<title>2529364943440&#45;&gt;2529364944112*</title>\n",
       "<path fill=\"none\" stroke=\"black\" d=\"M199.81,-128.5C208.19,-128.5 216.28,-128.5 223.69,-128.5\"/>\n",
       "<polygon fill=\"black\" stroke=\"black\" points=\"223.58,-132 233.58,-128.5 223.58,-125 223.58,-132\"/>\n",
       "</g>\n",
       "<!-- 2529364943488 -->\n",
       "<g id=\"node3\" class=\"node\">\n",
       "<title>2529364943488</title>\n",
       "<polygon fill=\"none\" stroke=\"black\" points=\"714.38,-27.5 714.38,-63.5 900.38,-63.5 900.38,-27.5 714.38,-27.5\"/>\n",
       "<text text-anchor=\"middle\" x=\"726.12\" y=\"-40.2\" font-family=\"Times New Roman,serif\" font-size=\"14.00\">b</text>\n",
       "<polyline fill=\"none\" stroke=\"black\" points=\"737.88,-27.75 737.88,-63.5\"/>\n",
       "<text text-anchor=\"middle\" x=\"778.12\" y=\"-40.2\" font-family=\"Times New Roman,serif\" font-size=\"14.00\">data 6.8814</text>\n",
       "<polyline fill=\"none\" stroke=\"black\" points=\"818.38,-27.75 818.38,-63.5\"/>\n",
       "<text text-anchor=\"middle\" x=\"859.38\" y=\"-40.2\" font-family=\"Times New Roman,serif\" font-size=\"14.00\">grad 0.5000</text>\n",
       "</g>\n",
       "<!-- 2529364867344+ -->\n",
       "<g id=\"node10\" class=\"node\">\n",
       "<title>2529364867344+</title>\n",
       "<ellipse fill=\"none\" stroke=\"black\" cx=\"1006.5\" cy=\"-72.5\" rx=\"27\" ry=\"18\"/>\n",
       "<text text-anchor=\"middle\" x=\"1006.5\" y=\"-67.08\" font-family=\"Times New Roman,serif\" font-size=\"14.00\">+</text>\n",
       "</g>\n",
       "<!-- 2529364943488&#45;&gt;2529364867344+ -->\n",
       "<g id=\"edge6\" class=\"edge\">\n",
       "<title>2529364943488&#45;&gt;2529364867344+</title>\n",
       "<path fill=\"none\" stroke=\"black\" d=\"M900.59,-58.13C924.65,-61.43 949.22,-64.79 968.53,-67.44\"/>\n",
       "<polygon fill=\"black\" stroke=\"black\" points=\"967.94,-70.89 978.32,-68.78 968.89,-63.95 967.94,-70.89\"/>\n",
       "</g>\n",
       "<!-- 2529364866720 -->\n",
       "<g id=\"node4\" class=\"node\">\n",
       "<title>2529364866720</title>\n",
       "<polygon fill=\"none\" stroke=\"black\" points=\"671.25,-82.5 671.25,-118.5 943.5,-118.5 943.5,-82.5 671.25,-82.5\"/>\n",
       "<text text-anchor=\"middle\" x=\"723.88\" y=\"-95.2\" font-family=\"Times New Roman,serif\" font-size=\"14.00\">x1*w1 + x2*w2</text>\n",
       "<polyline fill=\"none\" stroke=\"black\" points=\"776.5,-82.75 776.5,-118.5\"/>\n",
       "<text text-anchor=\"middle\" x=\"819\" y=\"-95.2\" font-family=\"Times New Roman,serif\" font-size=\"14.00\">data &#45;6.0000</text>\n",
       "<polyline fill=\"none\" stroke=\"black\" points=\"861.5,-82.75 861.5,-118.5\"/>\n",
       "<text text-anchor=\"middle\" x=\"902.5\" y=\"-95.2\" font-family=\"Times New Roman,serif\" font-size=\"14.00\">grad 0.5000</text>\n",
       "</g>\n",
       "<!-- 2529364866720&#45;&gt;2529364867344+ -->\n",
       "<g id=\"edge14\" class=\"edge\">\n",
       "<title>2529364866720&#45;&gt;2529364867344+</title>\n",
       "<path fill=\"none\" stroke=\"black\" d=\"M938.49,-82.02C949.28,-80.49 959.5,-79.03 968.57,-77.75\"/>\n",
       "<polygon fill=\"black\" stroke=\"black\" points=\"968.86,-81.24 978.27,-76.37 967.87,-74.31 968.86,-81.24\"/>\n",
       "</g>\n",
       "<!-- 2529364866720+ -->\n",
       "<g id=\"node5\" class=\"node\">\n",
       "<title>2529364866720+</title>\n",
       "<ellipse fill=\"none\" stroke=\"black\" cx=\"608.25\" cy=\"-100.5\" rx=\"27\" ry=\"18\"/>\n",
       "<text text-anchor=\"middle\" x=\"608.25\" y=\"-95.08\" font-family=\"Times New Roman,serif\" font-size=\"14.00\">+</text>\n",
       "</g>\n",
       "<!-- 2529364866720+&#45;&gt;2529364866720 -->\n",
       "<g id=\"edge1\" class=\"edge\">\n",
       "<title>2529364866720+&#45;&gt;2529364866720</title>\n",
       "<path fill=\"none\" stroke=\"black\" d=\"M635.43,-100.5C642.57,-100.5 650.85,-100.5 659.84,-100.5\"/>\n",
       "<polygon fill=\"black\" stroke=\"black\" points=\"659.6,-104 669.6,-100.5 659.6,-97 659.6,-104\"/>\n",
       "</g>\n",
       "<!-- 2529364943056 -->\n",
       "<g id=\"node6\" class=\"node\">\n",
       "<title>2529364943056</title>\n",
       "<polygon fill=\"none\" stroke=\"black\" points=\"3.75,-55.5 3.75,-91.5 195.75,-91.5 195.75,-55.5 3.75,-55.5\"/>\n",
       "<text text-anchor=\"middle\" x=\"18.5\" y=\"-68.2\" font-family=\"Times New Roman,serif\" font-size=\"14.00\">x2</text>\n",
       "<polyline fill=\"none\" stroke=\"black\" points=\"33.25,-55.75 33.25,-91.5\"/>\n",
       "<text text-anchor=\"middle\" x=\"73.5\" y=\"-68.2\" font-family=\"Times New Roman,serif\" font-size=\"14.00\">data 0.0000</text>\n",
       "<polyline fill=\"none\" stroke=\"black\" points=\"113.75,-55.75 113.75,-91.5\"/>\n",
       "<text text-anchor=\"middle\" x=\"154.75\" y=\"-68.2\" font-family=\"Times New Roman,serif\" font-size=\"14.00\">grad 0.5000</text>\n",
       "</g>\n",
       "<!-- 2529364944304* -->\n",
       "<g id=\"node15\" class=\"node\">\n",
       "<title>2529364944304*</title>\n",
       "<ellipse fill=\"none\" stroke=\"black\" cx=\"262.5\" cy=\"-73.5\" rx=\"27\" ry=\"18\"/>\n",
       "<text text-anchor=\"middle\" x=\"262.5\" y=\"-68.08\" font-family=\"Times New Roman,serif\" font-size=\"14.00\">*</text>\n",
       "</g>\n",
       "<!-- 2529364943056&#45;&gt;2529364944304* -->\n",
       "<g id=\"edge7\" class=\"edge\">\n",
       "<title>2529364943056&#45;&gt;2529364944304*</title>\n",
       "<path fill=\"none\" stroke=\"black\" d=\"M196.12,-73.5C205.86,-73.5 215.3,-73.5 223.83,-73.5\"/>\n",
       "<polygon fill=\"black\" stroke=\"black\" points=\"223.71,-77 233.71,-73.5 223.71,-70 223.71,-77\"/>\n",
       "</g>\n",
       "<!-- 2529364944112 -->\n",
       "<g id=\"node7\" class=\"node\">\n",
       "<title>2529364944112</title>\n",
       "<polygon fill=\"none\" stroke=\"black\" points=\"325.5,-110.5 325.5,-146.5 545.25,-146.5 545.25,-110.5 325.5,-110.5\"/>\n",
       "<text text-anchor=\"middle\" x=\"351.88\" y=\"-123.2\" font-family=\"Times New Roman,serif\" font-size=\"14.00\">x1*w1</text>\n",
       "<polyline fill=\"none\" stroke=\"black\" points=\"378.25,-110.75 378.25,-146.5\"/>\n",
       "<text text-anchor=\"middle\" x=\"420.75\" y=\"-123.2\" font-family=\"Times New Roman,serif\" font-size=\"14.00\">data &#45;6.0000</text>\n",
       "<polyline fill=\"none\" stroke=\"black\" points=\"463.25,-110.75 463.25,-146.5\"/>\n",
       "<text text-anchor=\"middle\" x=\"504.25\" y=\"-123.2\" font-family=\"Times New Roman,serif\" font-size=\"14.00\">grad 0.5000</text>\n",
       "</g>\n",
       "<!-- 2529364944112&#45;&gt;2529364866720+ -->\n",
       "<g id=\"edge10\" class=\"edge\">\n",
       "<title>2529364944112&#45;&gt;2529364866720+</title>\n",
       "<path fill=\"none\" stroke=\"black\" d=\"M545.56,-110.61C554.32,-109.17 562.71,-107.8 570.34,-106.55\"/>\n",
       "<polygon fill=\"black\" stroke=\"black\" points=\"570.83,-110.02 580.13,-104.94 569.69,-103.11 570.83,-110.02\"/>\n",
       "</g>\n",
       "<!-- 2529364944112*&#45;&gt;2529364944112 -->\n",
       "<g id=\"edge2\" class=\"edge\">\n",
       "<title>2529364944112*&#45;&gt;2529364944112</title>\n",
       "<path fill=\"none\" stroke=\"black\" d=\"M289.82,-128.5C296.93,-128.5 305.11,-128.5 313.89,-128.5\"/>\n",
       "<polygon fill=\"black\" stroke=\"black\" points=\"313.78,-132 323.78,-128.5 313.78,-125 313.78,-132\"/>\n",
       "</g>\n",
       "<!-- 2529364867344 -->\n",
       "<g id=\"node9\" class=\"node\">\n",
       "<title>2529364867344</title>\n",
       "<polygon fill=\"none\" stroke=\"black\" points=\"1069.5,-54.5 1069.5,-90.5 1254.75,-90.5 1254.75,-54.5 1069.5,-54.5\"/>\n",
       "<text text-anchor=\"middle\" x=\"1080.88\" y=\"-67.2\" font-family=\"Times New Roman,serif\" font-size=\"14.00\">n</text>\n",
       "<polyline fill=\"none\" stroke=\"black\" points=\"1092.25,-54.75 1092.25,-90.5\"/>\n",
       "<text text-anchor=\"middle\" x=\"1132.5\" y=\"-67.2\" font-family=\"Times New Roman,serif\" font-size=\"14.00\">data 0.8814</text>\n",
       "<polyline fill=\"none\" stroke=\"black\" points=\"1172.75,-54.75 1172.75,-90.5\"/>\n",
       "<text text-anchor=\"middle\" x=\"1213.75\" y=\"-67.2\" font-family=\"Times New Roman,serif\" font-size=\"14.00\">grad 0.5000</text>\n",
       "</g>\n",
       "<!-- 2529364866864tanh -->\n",
       "<g id=\"node12\" class=\"node\">\n",
       "<title>2529364866864tanh</title>\n",
       "<ellipse fill=\"none\" stroke=\"black\" cx=\"1317.75\" cy=\"-72.5\" rx=\"27\" ry=\"18\"/>\n",
       "<text text-anchor=\"middle\" x=\"1317.75\" y=\"-67.08\" font-family=\"Times New Roman,serif\" font-size=\"14.00\">tanh</text>\n",
       "</g>\n",
       "<!-- 2529364867344&#45;&gt;2529364866864tanh -->\n",
       "<g id=\"edge11\" class=\"edge\">\n",
       "<title>2529364867344&#45;&gt;2529364866864tanh</title>\n",
       "<path fill=\"none\" stroke=\"black\" d=\"M1255.15,-72.5C1263.52,-72.5 1271.64,-72.5 1279.09,-72.5\"/>\n",
       "<polygon fill=\"black\" stroke=\"black\" points=\"1279.03,-76 1289.03,-72.5 1279.03,-69 1279.03,-76\"/>\n",
       "</g>\n",
       "<!-- 2529364867344+&#45;&gt;2529364867344 -->\n",
       "<g id=\"edge3\" class=\"edge\">\n",
       "<title>2529364867344+&#45;&gt;2529364867344</title>\n",
       "<path fill=\"none\" stroke=\"black\" d=\"M1033.91,-72.5C1040.95,-72.5 1049,-72.5 1057.55,-72.5\"/>\n",
       "<polygon fill=\"black\" stroke=\"black\" points=\"1057.54,-76 1067.54,-72.5 1057.54,-69 1057.54,-76\"/>\n",
       "</g>\n",
       "<!-- 2529364866864 -->\n",
       "<g id=\"node11\" class=\"node\">\n",
       "<title>2529364866864</title>\n",
       "<polygon fill=\"none\" stroke=\"black\" points=\"1380.75,-54.5 1380.75,-90.5 1566.75,-90.5 1566.75,-54.5 1380.75,-54.5\"/>\n",
       "<text text-anchor=\"middle\" x=\"1392.5\" y=\"-67.2\" font-family=\"Times New Roman,serif\" font-size=\"14.00\">o</text>\n",
       "<polyline fill=\"none\" stroke=\"black\" points=\"1404.25,-54.75 1404.25,-90.5\"/>\n",
       "<text text-anchor=\"middle\" x=\"1444.5\" y=\"-67.2\" font-family=\"Times New Roman,serif\" font-size=\"14.00\">data 0.7071</text>\n",
       "<polyline fill=\"none\" stroke=\"black\" points=\"1484.75,-54.75 1484.75,-90.5\"/>\n",
       "<text text-anchor=\"middle\" x=\"1525.75\" y=\"-67.2\" font-family=\"Times New Roman,serif\" font-size=\"14.00\">grad 1.0000</text>\n",
       "</g>\n",
       "<!-- 2529364866864tanh&#45;&gt;2529364866864 -->\n",
       "<g id=\"edge4\" class=\"edge\">\n",
       "<title>2529364866864tanh&#45;&gt;2529364866864</title>\n",
       "<path fill=\"none\" stroke=\"black\" d=\"M1345.22,-72.5C1352.36,-72.5 1360.53,-72.5 1369.21,-72.5\"/>\n",
       "<polygon fill=\"black\" stroke=\"black\" points=\"1368.94,-76 1378.94,-72.5 1368.94,-69 1368.94,-76\"/>\n",
       "</g>\n",
       "<!-- 2529364943200 -->\n",
       "<g id=\"node13\" class=\"node\">\n",
       "<title>2529364943200</title>\n",
       "<polygon fill=\"none\" stroke=\"black\" points=\"2.25,-0.5 2.25,-36.5 197.25,-36.5 197.25,-0.5 2.25,-0.5\"/>\n",
       "<text text-anchor=\"middle\" x=\"18.5\" y=\"-13.2\" font-family=\"Times New Roman,serif\" font-size=\"14.00\">w2</text>\n",
       "<polyline fill=\"none\" stroke=\"black\" points=\"34.75,-0.75 34.75,-36.5\"/>\n",
       "<text text-anchor=\"middle\" x=\"75\" y=\"-13.2\" font-family=\"Times New Roman,serif\" font-size=\"14.00\">data 1.0000</text>\n",
       "<polyline fill=\"none\" stroke=\"black\" points=\"115.25,-0.75 115.25,-36.5\"/>\n",
       "<text text-anchor=\"middle\" x=\"156.25\" y=\"-13.2\" font-family=\"Times New Roman,serif\" font-size=\"14.00\">grad 0.0000</text>\n",
       "</g>\n",
       "<!-- 2529364943200&#45;&gt;2529364944304* -->\n",
       "<g id=\"edge13\" class=\"edge\">\n",
       "<title>2529364943200&#45;&gt;2529364944304*</title>\n",
       "<path fill=\"none\" stroke=\"black\" d=\"M173.43,-36.97C182.28,-39.63 191.14,-42.49 199.5,-45.5 209.59,-49.13 220.33,-53.71 229.98,-58.11\"/>\n",
       "<polygon fill=\"black\" stroke=\"black\" points=\"228.41,-61.24 238.95,-62.3 231.37,-54.9 228.41,-61.24\"/>\n",
       "</g>\n",
       "<!-- 2529364944304 -->\n",
       "<g id=\"node14\" class=\"node\">\n",
       "<title>2529364944304</title>\n",
       "<polygon fill=\"none\" stroke=\"black\" points=\"327.75,-55.5 327.75,-91.5 543,-91.5 543,-55.5 327.75,-55.5\"/>\n",
       "<text text-anchor=\"middle\" x=\"354.12\" y=\"-68.2\" font-family=\"Times New Roman,serif\" font-size=\"14.00\">x2*w2</text>\n",
       "<polyline fill=\"none\" stroke=\"black\" points=\"380.5,-55.75 380.5,-91.5\"/>\n",
       "<text text-anchor=\"middle\" x=\"420.75\" y=\"-68.2\" font-family=\"Times New Roman,serif\" font-size=\"14.00\">data 0.0000</text>\n",
       "<polyline fill=\"none\" stroke=\"black\" points=\"461,-55.75 461,-91.5\"/>\n",
       "<text text-anchor=\"middle\" x=\"502\" y=\"-68.2\" font-family=\"Times New Roman,serif\" font-size=\"14.00\">grad 0.5000</text>\n",
       "</g>\n",
       "<!-- 2529364944304&#45;&gt;2529364866720+ -->\n",
       "<g id=\"edge8\" class=\"edge\">\n",
       "<title>2529364944304&#45;&gt;2529364866720+</title>\n",
       "<path fill=\"none\" stroke=\"black\" d=\"M543.14,-90.37C552.77,-91.89 562.01,-93.35 570.33,-94.67\"/>\n",
       "<polygon fill=\"black\" stroke=\"black\" points=\"569.51,-98.08 579.94,-96.18 570.61,-91.17 569.51,-98.08\"/>\n",
       "</g>\n",
       "<!-- 2529364944304*&#45;&gt;2529364944304 -->\n",
       "<g id=\"edge5\" class=\"edge\">\n",
       "<title>2529364944304*&#45;&gt;2529364944304</title>\n",
       "<path fill=\"none\" stroke=\"black\" d=\"M289.82,-73.5C297.5,-73.5 306.41,-73.5 315.98,-73.5\"/>\n",
       "<polygon fill=\"black\" stroke=\"black\" points=\"315.97,-77 325.97,-73.5 315.97,-70 315.97,-77\"/>\n",
       "</g>\n",
       "</g>\n",
       "</svg>\n"
      ],
      "text/plain": [
       "<graphviz.graphs.Digraph at 0x24ce9e5dac0>"
      ]
     },
     "execution_count": 14,
     "metadata": {},
     "output_type": "execute_result"
    }
   ],
   "source": [
    "draw_dot(o)"
   ]
  },
  {
   "cell_type": "code",
   "execution_count": null,
   "metadata": {},
   "outputs": [],
   "source": [
    "x1 = Value(2.0, label='x1')\n",
    "x2 = Value(0.0, label='x2')\n",
    "# weights w1,w2\n",
    "w1 = Value(-3.0, label='w1')\n",
    "w2 = Value(1.0, label='w2')\n",
    "# bias of the neuron\n",
    "b = Value(6.8813735870195432, label='b')\n",
    "# x1*w1 + x2*w2 + b\n",
    "x1w1 = x1*w1; x1w1.label = 'x1*w1'\n",
    "x2w2 = x2*w2; x2w2.label = 'x2*w2'\n",
    "x1w1x2w2 = x1w1 + x2w2; x1w1x2w2.label = 'x1*w1 + x2*w2'\n",
    "n = x1w1x2w2 + b; n.label = 'n'\n",
    "# ----\n",
    "e = (2*n).exp()\n",
    "o = (e - 1) / (e + 1)\n",
    "# ----\n",
    "o.label = 'o'\n",
    "o.backward()\n",
    "draw_dot(o)"
   ]
  },
  {
   "cell_type": "markdown",
   "metadata": {},
   "source": [
    "## Building micrograd using pytorch"
   ]
  },
  {
   "cell_type": "code",
   "execution_count": null,
   "metadata": {},
   "outputs": [],
   "source": [
    "import torch \n",
    "import random\n"
   ]
  },
  {
   "cell_type": "code",
   "execution_count": null,
   "metadata": {},
   "outputs": [],
   "source": [
    "x1 = torch.Tensor([2.0]).double()   ; x1.requires_grad = True\n",
    "x2 = torch.Tensor([0.0]).double()   ; x2.requires_grad = True\n",
    "w1 = torch.Tensor([-3.0]).double()  ; w1.requires_grad = True\n",
    "w2 = torch.Tensor([1.0]).double()   ; w2.requires_grad = True\n",
    "b = torch.Tensor([6.8813735870195432]).double() ; b.requires_grad = True\n",
    "\n",
    "n = x1*w1 + x2*w2 + b\n",
    "o = torch.tanh(n)\n",
    "\n",
    "print(o.data.item())\n",
    "o.backward()\n",
    "\n",
    "print('x2', x2.grad.item()) \n",
    "print('w2', w2.grad.item())\n",
    "print('x1', x1.grad.item())\n",
    "print('w1', w1.grad.item())\n"
   ]
  },
  {
   "cell_type": "code",
   "execution_count": 49,
   "metadata": {},
   "outputs": [],
   "source": [
    "class Neuron:\n",
    "  \n",
    "  def __init__(self, nin):\n",
    "    self.w = [Value(random.uniform(-1,1)) for _ in range(nin)]\n",
    "    self.b = Value(random.uniform(-1,1))\n",
    "  \n",
    "  def __call__(self, x):\n",
    "    # w * x + b\n",
    "    act = sum((wi*xi for wi, xi in zip(self.w, x)), self.b)\n",
    "    out = act.tanh()\n",
    "    return out\n",
    "  \n",
    "  def parameters(self):\n",
    "    return self.w + [self.b]\n",
    "\n",
    "class Layer:\n",
    "  \n",
    "  def __init__(self, nin, nout):\n",
    "    self.neurons = [Neuron(nin) for _ in range(nout)]\n",
    "  \n",
    "  def __call__(self, x):\n",
    "    outs = [n(x) for n in self.neurons]\n",
    "    return outs[0] if len(outs) == 1 else outs\n",
    "  \n",
    "  def parameters(self):\n",
    "    return [p for neuron in self.neurons for p in neuron.parameters()]\n",
    "\n",
    "class MLP:\n",
    "  \n",
    "  def __init__(self, nin, nouts):\n",
    "    sz = [nin] + nouts\n",
    "    self.layers = [Layer(sz[i], sz[i+1]) for i in range(len(nouts))]\n",
    "  \n",
    "  def __call__(self, x):\n",
    "    for layer in self.layers:\n",
    "      x = layer(x)\n",
    "    return x\n",
    "  \n",
    "  def parameters(self):\n",
    "    return [p for layer in self.layers for p in layer.parameters()]\n"
   ]
  },
  {
   "cell_type": "code",
   "execution_count": 50,
   "metadata": {},
   "outputs": [
    {
     "data": {
      "text/plain": [
       "Value(data=0.899912403677696)"
      ]
     },
     "execution_count": 50,
     "metadata": {},
     "output_type": "execute_result"
    }
   ],
   "source": [
    "x = [2.0, 3.0, -1.0]\n",
    "n = MLP(3, [4, 4, 1])\n",
    "n(x)"
   ]
  },
  {
   "cell_type": "code",
   "execution_count": 51,
   "metadata": {},
   "outputs": [],
   "source": [
    "xs = [\n",
    "  [2.0, 3.0, -1.0],\n",
    "  [3.0, -1.0, 0.5],\n",
    "  [0.5, 1.0, 1.0],\n",
    "  [1.0, 1.0, -1.0],\n",
    "]\n",
    "ys = [1.0, -1.0, -1.0, 1.0] # desired target\n"
   ]
  },
  {
   "cell_type": "code",
   "execution_count": 52,
   "metadata": {},
   "outputs": [
    {
     "data": {
      "text/plain": [
       "[Value(data=0.899912403677696),\n",
       " Value(data=-0.6756225031119805),\n",
       " Value(data=0.46605225920079746),\n",
       " Value(data=0.9140343866586659)]"
      ]
     },
     "execution_count": 52,
     "metadata": {},
     "output_type": "execute_result"
    }
   ],
   "source": [
    "ypred  = [n(x) for x in xs]\n",
    "ypred"
   ]
  },
  {
   "cell_type": "code",
   "execution_count": 53,
   "metadata": {},
   "outputs": [
    {
     "data": {
      "text/plain": [
       "Value(data=2.2719376008098275)"
      ]
     },
     "execution_count": 53,
     "metadata": {},
     "output_type": "execute_result"
    }
   ],
   "source": [
    "loss = sum((yout - ygt)**2 for ygt, yout in zip(ys, ypred))\n",
    "loss"
   ]
  },
  {
   "cell_type": "code",
   "execution_count": 54,
   "metadata": {},
   "outputs": [],
   "source": [
    "loss.backward()"
   ]
  },
  {
   "cell_type": "code",
   "execution_count": 55,
   "metadata": {},
   "outputs": [
    {
     "data": {
      "text/plain": [
       "-0.4749478660703087"
      ]
     },
     "execution_count": 55,
     "metadata": {},
     "output_type": "execute_result"
    }
   ],
   "source": [
    "n.layers[0].neurons[0].w[0].grad"
   ]
  },
  {
   "cell_type": "code",
   "execution_count": 56,
   "metadata": {},
   "outputs": [
    {
     "name": "stdout",
     "output_type": "stream",
     "text": [
      "0 2.2719376008098275\n",
      "1 0.2140868986651748\n",
      "2 0.10482525561728712\n",
      "3 0.07779409994246461\n",
      "4 0.062303395695527355\n",
      "5 0.05194169802058975\n",
      "6 0.04446591111436772\n",
      "7 0.03880794521456342\n",
      "8 0.034376999091301645\n",
      "9 0.03081530631523112\n",
      "10 0.027892290659874273\n",
      "11 0.025452280204007225\n",
      "12 0.023386265708588455\n",
      "13 0.0216156106252582\n",
      "14 0.020082163373622813\n",
      "15 0.018742003570882328\n",
      "16 0.017561349203647825\n",
      "17 0.016513799310776164\n",
      "18 0.015578429415739439\n",
      "19 0.014738446969558745\n"
     ]
    }
   ],
   "source": [
    "for k in range(20):\n",
    "  \n",
    "  # forward pass\n",
    "  ypred = [n(x) for x in xs]\n",
    "  loss = sum((yout - ygt)**2 for ygt, yout in zip(ys, ypred))\n",
    "  \n",
    "  # backward pass\n",
    "  for p in n.parameters():\n",
    "    p.grad = 0.0\n",
    "  loss.backward()\n",
    "  \n",
    "  # update\n",
    "  for p in n.parameters():\n",
    "    p.data += -0.1 * p.grad\n",
    "  \n",
    "  print(k, loss.data)"
   ]
  },
  {
   "cell_type": "code",
   "execution_count": 57,
   "metadata": {},
   "outputs": [
    {
     "data": {
      "text/plain": [
       "[Value(data=0.9430900230955953),\n",
       " Value(data=-0.9468729048676303),\n",
       " Value(data=-0.9316434292497281),\n",
       " Value(data=0.9367181503402588)]"
      ]
     },
     "execution_count": 57,
     "metadata": {},
     "output_type": "execute_result"
    }
   ],
   "source": [
    "ypred"
   ]
  }
 ],
 "metadata": {
  "kernelspec": {
   "display_name": "Python 3",
   "language": "python",
   "name": "python3"
  },
  "language_info": {
   "codemirror_mode": {
    "name": "ipython",
    "version": 3
   },
   "file_extension": ".py",
   "mimetype": "text/x-python",
   "name": "python",
   "nbconvert_exporter": "python",
   "pygments_lexer": "ipython3",
   "version": "3.9.19"
  }
 },
 "nbformat": 4,
 "nbformat_minor": 2
}
